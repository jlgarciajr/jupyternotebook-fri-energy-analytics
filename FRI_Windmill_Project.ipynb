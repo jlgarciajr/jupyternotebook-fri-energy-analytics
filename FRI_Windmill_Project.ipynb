{
 "cells": [
  {
   "cell_type": "code",
   "execution_count": 1,
   "id": "c026d4e4",
   "metadata": {},
   "outputs": [],
   "source": [
    "import geopandas"
   ]
  },
  {
   "cell_type": "code",
   "execution_count": 5,
   "id": "88ff7db3",
   "metadata": {},
   "outputs": [
    {
     "name": "stdout",
     "output_type": "stream",
     "text": [
      "Collecting package metadata (current_repodata.json): ...working... done\n",
      "Solving environment: ...working... done\n",
      "\n",
      "## Package Plan ##\n",
      "\n",
      "  environment location: C:\\Users\\joe18\\anaconda3\\envs\\geo_env\n",
      "\n",
      "  added / updated specs:\n",
      "    - geopy\n",
      "\n",
      "\n",
      "The following packages will be downloaded:\n",
      "\n",
      "    package                    |            build\n",
      "    ---------------------------|-----------------\n",
      "    geographiclib-1.52         |     pyhd8ed1ab_0          35 KB  conda-forge\n",
      "    geopy-2.2.0                |     pyhd8ed1ab_0          67 KB  conda-forge\n",
      "    ------------------------------------------------------------\n",
      "                                           Total:         102 KB\n",
      "\n",
      "The following NEW packages will be INSTALLED:\n",
      "\n",
      "  geographiclib      conda-forge/noarch::geographiclib-1.52-pyhd8ed1ab_0\n",
      "  geopy              conda-forge/noarch::geopy-2.2.0-pyhd8ed1ab_0\n",
      "\n",
      "\n",
      "\n",
      "Downloading and Extracting Packages\n",
      "\n",
      "geographiclib-1.52   | 35 KB     |            |   0% \n",
      "geographiclib-1.52   | 35 KB     | ####5      |  46% \n",
      "geographiclib-1.52   | 35 KB     | ########## | 100% \n",
      "\n",
      "geopy-2.2.0          | 67 KB     |            |   0% \n",
      "geopy-2.2.0          | 67 KB     | ########## | 100% \n",
      "geopy-2.2.0          | 67 KB     | ########## | 100% \n",
      "Preparing transaction: ...working... done\n",
      "Verifying transaction: ...working... done\n",
      "Executing transaction: ...working... done\n",
      "\n",
      "Note: you may need to restart the kernel to use updated packages.\n"
     ]
    }
   ],
   "source": [
    "conda install geopy"
   ]
  },
  {
   "cell_type": "code",
   "execution_count": 6,
   "id": "540a0255",
   "metadata": {},
   "outputs": [],
   "source": [
    "import geopy"
   ]
  },
  {
   "cell_type": "code",
   "execution_count": 7,
   "id": "c46f1fed",
   "metadata": {},
   "outputs": [
    {
     "ename": "ModuleNotFoundError",
     "evalue": "No module named 'geocoders'",
     "output_type": "error",
     "traceback": [
      "\u001b[1;31m---------------------------------------------------------------------------\u001b[0m",
      "\u001b[1;31mModuleNotFoundError\u001b[0m                       Traceback (most recent call last)",
      "\u001b[1;32m~\\AppData\\Local\\Temp/ipykernel_46492/3617667173.py\u001b[0m in \u001b[0;36m<module>\u001b[1;34m\u001b[0m\n\u001b[1;32m----> 1\u001b[1;33m \u001b[1;32mimport\u001b[0m \u001b[0mgeocoders\u001b[0m\u001b[1;33m\u001b[0m\u001b[1;33m\u001b[0m\u001b[0m\n\u001b[0m",
      "\u001b[1;31mModuleNotFoundError\u001b[0m: No module named 'geocoders'"
     ]
    }
   ],
   "source": [
    "import geocoders"
   ]
  },
  {
   "cell_type": "code",
   "execution_count": 9,
   "id": "d465610e",
   "metadata": {},
   "outputs": [
    {
     "name": "stdout",
     "output_type": "stream",
     "text": [
      "Collecting package metadata (current_repodata.json): ...working... done\n",
      "Solving environment: ...working... done\n",
      "\n",
      "## Package Plan ##\n",
      "\n",
      "  environment location: C:\\Users\\joe18\\anaconda3\\envs\\geo_env\n",
      "\n",
      "  added / updated specs:\n",
      "    - geocoder\n",
      "\n",
      "\n",
      "The following packages will be downloaded:\n",
      "\n",
      "    package                    |            build\n",
      "    ---------------------------|-----------------\n",
      "    brotlipy-0.7.0             |py39hb82d6ee_1001         369 KB  conda-forge\n",
      "    chardet-4.0.0              |   py39hcbf5309_1         218 KB  conda-forge\n",
      "    charset-normalizer-2.0.0   |     pyhd8ed1ab_0          32 KB  conda-forge\n",
      "    cryptography-3.4.7         |   py39hd8d06c1_0         706 KB  conda-forge\n",
      "    future-0.18.2              |   py39hcbf5309_3         733 KB  conda-forge\n",
      "    idna-3.1                   |     pyhd3deb0d_0          52 KB  conda-forge\n",
      "    pyopenssl-20.0.1           |     pyhd8ed1ab_0          48 KB  conda-forge\n",
      "    pysocks-1.7.1              |   py39hcbf5309_3          28 KB  conda-forge\n",
      "    requests-2.26.0            |     pyhd8ed1ab_0          52 KB  conda-forge\n",
      "    urllib3-1.26.7             |     pyhd8ed1ab_0         100 KB  conda-forge\n",
      "    win_inet_pton-1.1.0        |   py39hcbf5309_2           8 KB  conda-forge\n",
      "    ------------------------------------------------------------\n",
      "                                           Total:         2.3 MB\n",
      "\n",
      "The following NEW packages will be INSTALLED:\n",
      "\n",
      "  brotlipy           conda-forge/win-64::brotlipy-0.7.0-py39hb82d6ee_1001\n",
      "  chardet            conda-forge/win-64::chardet-4.0.0-py39hcbf5309_1\n",
      "  charset-normalizer conda-forge/noarch::charset-normalizer-2.0.0-pyhd8ed1ab_0\n",
      "  cryptography       conda-forge/win-64::cryptography-3.4.7-py39hd8d06c1_0\n",
      "  future             conda-forge/win-64::future-0.18.2-py39hcbf5309_3\n",
      "  geocoder           conda-forge/noarch::geocoder-1.38.1-py_1\n",
      "  idna               conda-forge/noarch::idna-3.1-pyhd3deb0d_0\n",
      "  pyopenssl          conda-forge/noarch::pyopenssl-20.0.1-pyhd8ed1ab_0\n",
      "  pysocks            conda-forge/win-64::pysocks-1.7.1-py39hcbf5309_3\n",
      "  ratelim            conda-forge/noarch::ratelim-0.1.6-py_2\n",
      "  requests           conda-forge/noarch::requests-2.26.0-pyhd8ed1ab_0\n",
      "  urllib3            conda-forge/noarch::urllib3-1.26.7-pyhd8ed1ab_0\n",
      "  win_inet_pton      conda-forge/win-64::win_inet_pton-1.1.0-py39hcbf5309_2\n",
      "\n",
      "\n",
      "\n",
      "Downloading and Extracting Packages\n",
      "\n",
      "win_inet_pton-1.1.0  | 8 KB      |            |   0% \n",
      "win_inet_pton-1.1.0  | 8 KB      | ########## | 100% \n",
      "win_inet_pton-1.1.0  | 8 KB      | ########## | 100% \n",
      "\n",
      "idna-3.1             | 52 KB     |            |   0% \n",
      "idna-3.1             | 52 KB     | ########## | 100% \n",
      "idna-3.1             | 52 KB     | ########## | 100% \n",
      "\n",
      "requests-2.26.0      | 52 KB     |            |   0% \n",
      "requests-2.26.0      | 52 KB     | ########## | 100% \n",
      "\n",
      "charset-normalizer-2 | 32 KB     |            |   0% \n",
      "charset-normalizer-2 | 32 KB     | ########## | 100% \n",
      "\n",
      "chardet-4.0.0        | 218 KB    |            |   0% \n",
      "chardet-4.0.0        | 218 KB    | ########## | 100% \n",
      "chardet-4.0.0        | 218 KB    | ########## | 100% \n",
      "\n",
      "urllib3-1.26.7       | 100 KB    |            |   0% \n",
      "urllib3-1.26.7       | 100 KB    | ########## | 100% \n",
      "urllib3-1.26.7       | 100 KB    | ########## | 100% \n",
      "\n",
      "pysocks-1.7.1        | 28 KB     |            |   0% \n",
      "pysocks-1.7.1        | 28 KB     | ########## | 100% \n",
      "\n",
      "brotlipy-0.7.0       | 369 KB    |            |   0% \n",
      "brotlipy-0.7.0       | 369 KB    | ########## | 100% \n",
      "brotlipy-0.7.0       | 369 KB    | ########## | 100% \n",
      "\n",
      "pyopenssl-20.0.1     | 48 KB     |            |   0% \n",
      "pyopenssl-20.0.1     | 48 KB     | ########## | 100% \n",
      "\n",
      "future-0.18.2        | 733 KB    |            |   0% \n",
      "future-0.18.2        | 733 KB    | #######8   |  79% \n",
      "future-0.18.2        | 733 KB    | ########## | 100% \n",
      "\n",
      "cryptography-3.4.7   | 706 KB    |            |   0% \n",
      "cryptography-3.4.7   | 706 KB    | #####8     |  59% \n",
      "cryptography-3.4.7   | 706 KB    | ########## | 100% \n",
      "Preparing transaction: ...working... done\n",
      "Verifying transaction: ...working... done\n",
      "Executing transaction: ...working... done\n",
      "\n",
      "Note: you may need to restart the kernel to use updated packages.\n"
     ]
    }
   ],
   "source": [
    "conda install geocoder"
   ]
  },
  {
   "cell_type": "code",
   "execution_count": 10,
   "id": "21fd8ece",
   "metadata": {},
   "outputs": [],
   "source": [
    "import geocoder"
   ]
  },
  {
   "cell_type": "code",
   "execution_count": 30,
   "id": "9fca096d",
   "metadata": {},
   "outputs": [
    {
     "name": "stdout",
     "output_type": "stream",
     "text": [
      "['37.38605', '-122.08385']\n"
     ]
    }
   ],
   "source": [
    "g = geocoder.geonames('Mountain View, CA', key = 'joe18red')\n",
    "print(g.latlng)"
   ]
  },
  {
   "cell_type": "code",
   "execution_count": null,
   "id": "7dca66e7",
   "metadata": {},
   "outputs": [],
   "source": []
  },
  {
   "cell_type": "code",
   "execution_count": null,
   "id": "7a46e198",
   "metadata": {},
   "outputs": [],
   "source": []
  }
 ],
 "metadata": {
  "kernelspec": {
   "display_name": "geo_env",
   "language": "python",
   "name": "geo_env"
  },
  "language_info": {
   "codemirror_mode": {
    "name": "ipython",
    "version": 3
   },
   "file_extension": ".py",
   "mimetype": "text/x-python",
   "name": "python",
   "nbconvert_exporter": "python",
   "pygments_lexer": "ipython3",
   "version": "3.9.7"
  }
 },
 "nbformat": 4,
 "nbformat_minor": 5
}
